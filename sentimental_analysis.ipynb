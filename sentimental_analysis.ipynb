{
 "cells": [
  {
   "cell_type": "code",
   "execution_count": 1,
   "metadata": {},
   "outputs": [
    {
     "data": {
      "text/html": [
       "<div>\n",
       "<style scoped>\n",
       "    .dataframe tbody tr th:only-of-type {\n",
       "        vertical-align: middle;\n",
       "    }\n",
       "\n",
       "    .dataframe tbody tr th {\n",
       "        vertical-align: top;\n",
       "    }\n",
       "\n",
       "    .dataframe thead th {\n",
       "        text-align: right;\n",
       "    }\n",
       "</style>\n",
       "<table border=\"1\" class=\"dataframe\">\n",
       "  <thead>\n",
       "    <tr style=\"text-align: right;\">\n",
       "      <th></th>\n",
       "      <th>_c0</th>\n",
       "      <th>username</th>\n",
       "      <th>description</th>\n",
       "      <th>location</th>\n",
       "      <th>following</th>\n",
       "      <th>followers</th>\n",
       "      <th>totaltweets</th>\n",
       "      <th>retweetcount</th>\n",
       "      <th>text</th>\n",
       "      <th>hashtags</th>\n",
       "    </tr>\n",
       "  </thead>\n",
       "  <tbody>\n",
       "    <tr>\n",
       "      <th>0</th>\n",
       "      <td>0</td>\n",
       "      <td>crismiller12</td>\n",
       "      <td>Ecclesiastes 10:2 MAGA always! Sarcasm is my s...</td>\n",
       "      <td>Bluegrass State</td>\n",
       "      <td>3634.0</td>\n",
       "      <td>22075.0</td>\n",
       "      <td>69282</td>\n",
       "      <td>311</td>\n",
       "      <td>Starbucks will now directly pay for the killin...</td>\n",
       "      <td>[]</td>\n",
       "    </tr>\n",
       "    <tr>\n",
       "      <th>1</th>\n",
       "      <td>1</td>\n",
       "      <td>fiveoneonefive1</td>\n",
       "      <td>Apex Legends: orangloser</td>\n",
       "      <td>None</td>\n",
       "      <td>NaN</td>\n",
       "      <td>NaN</td>\n",
       "      <td>None</td>\n",
       "      <td>None</td>\n",
       "      <td>None</td>\n",
       "      <td>None</td>\n",
       "    </tr>\n",
       "    <tr>\n",
       "      <th>2</th>\n",
       "      <td>I.Q. 108</td>\n",
       "      <td>None</td>\n",
       "      <td>None</td>\n",
       "      <td>None</td>\n",
       "      <td>NaN</td>\n",
       "      <td>NaN</td>\n",
       "      <td>None</td>\n",
       "      <td>None</td>\n",
       "      <td>None</td>\n",
       "      <td>None</td>\n",
       "    </tr>\n",
       "    <tr>\n",
       "      <th>3</th>\n",
       "      <td>I have herpes :(\"</td>\n",
       "      <td>None</td>\n",
       "      <td>5000</td>\n",
       "      <td>180</td>\n",
       "      <td>7292.0</td>\n",
       "      <td>0.0</td>\n",
       "      <td>@StephTheMajor those are her fins, the Starbuc...</td>\n",
       "      <td>[]</td>\n",
       "      <td>None</td>\n",
       "      <td>None</td>\n",
       "    </tr>\n",
       "    <tr>\n",
       "      <th>4</th>\n",
       "      <td>2</td>\n",
       "      <td>mirianlupitaa</td>\n",
       "      <td>⚡️HAPPINESS 행복</td>\n",
       "      <td>SoCAL805</td>\n",
       "      <td>30.0</td>\n",
       "      <td>21.0</td>\n",
       "      <td>484</td>\n",
       "      <td>940</td>\n",
       "      <td>Maybe Starbucks some flowers and a long ass na...</td>\n",
       "      <td>[]</td>\n",
       "    </tr>\n",
       "  </tbody>\n",
       "</table>\n",
       "</div>"
      ],
      "text/plain": [
       "                 _c0         username  \\\n",
       "0                  0     crismiller12   \n",
       "1                  1  fiveoneonefive1   \n",
       "2           I.Q. 108             None   \n",
       "3  I have herpes :(\"             None   \n",
       "4                  2    mirianlupitaa   \n",
       "\n",
       "                                         description         location  \\\n",
       "0  Ecclesiastes 10:2 MAGA always! Sarcasm is my s...  Bluegrass State   \n",
       "1                           Apex Legends: orangloser             None   \n",
       "2                                               None             None   \n",
       "3                                               5000              180   \n",
       "4                                     ⚡️HAPPINESS 행복         SoCAL805   \n",
       "\n",
       "   following  followers                                        totaltweets  \\\n",
       "0     3634.0    22075.0                                              69282   \n",
       "1        NaN        NaN                                               None   \n",
       "2        NaN        NaN                                               None   \n",
       "3     7292.0        0.0  @StephTheMajor those are her fins, the Starbuc...   \n",
       "4       30.0       21.0                                                484   \n",
       "\n",
       "  retweetcount                                               text hashtags  \n",
       "0          311  Starbucks will now directly pay for the killin...       []  \n",
       "1         None                                               None     None  \n",
       "2         None                                               None     None  \n",
       "3           []                                               None     None  \n",
       "4          940  Maybe Starbucks some flowers and a long ass na...       []  "
      ]
     },
     "execution_count": 1,
     "metadata": {},
     "output_type": "execute_result"
    }
   ],
   "source": [
    "from pyspark.sql import SparkSession\n",
    " \n",
    "spark = SparkSession.builder.appName(\n",
    "    'Read CSV File into DataFrame').getOrCreate()\n",
    " \n",
    "authors = spark.read.csv('scraped_tweets.csv', sep=',',\n",
    "                         inferSchema=True, header=True)\n",
    " \n",
    "df = authors.toPandas()\n",
    "df.head()"
   ]
  },
  {
   "cell_type": "code",
   "execution_count": 2,
   "metadata": {},
   "outputs": [],
   "source": [
    "df.drop(['_c0','username','description','location','following','followers','totaltweets','retweetcount','hashtags'],inplace=True,axis=1)"
   ]
  },
  {
   "cell_type": "code",
   "execution_count": 3,
   "metadata": {},
   "outputs": [],
   "source": [
    "df.dropna(inplace=True)"
   ]
  },
  {
   "cell_type": "code",
   "execution_count": 4,
   "metadata": {},
   "outputs": [
    {
     "name": "stdout",
     "output_type": "stream",
     "text": [
      "text    0\n",
      "dtype: int64\n"
     ]
    }
   ],
   "source": [
    "print(df.isnull().sum())"
   ]
  },
  {
   "cell_type": "code",
   "execution_count": 5,
   "metadata": {},
   "outputs": [
    {
     "data": {
      "text/plain": [
       "0      Starbucks will now directly pay for the killin...\n",
       "4      Maybe Starbucks some flowers and a long ass na...\n",
       "5                  starbucks always makes me feel better\n",
       "6                  starbucks always makes me feel better\n",
       "7      NOW: Starbucks will pay expenses for any emplo...\n",
       "                             ...                        \n",
       "175    Maybe Starbucks some flowers and a long ass na...\n",
       "176    Might have to fuck around and try the pink dri...\n",
       "177    Maybe Starbucks some flowers and a long ass na...\n",
       "178    BREAKING: It’s a clean sweep! Starbucks worker...\n",
       "180    @EminentProf @Starbucks Aren't the NSRB hammer...\n",
       "Name: text, Length: 90, dtype: object"
      ]
     },
     "execution_count": 5,
     "metadata": {},
     "output_type": "execute_result"
    }
   ],
   "source": [
    "df['text']"
   ]
  },
  {
   "cell_type": "code",
   "execution_count": 6,
   "metadata": {},
   "outputs": [],
   "source": [
    "feedback=list(df['text'])"
   ]
  },
  {
   "cell_type": "code",
   "execution_count": 7,
   "metadata": {},
   "outputs": [
    {
     "data": {
      "text/plain": [
       "['Starbucks will now directly pay for the killing of unborn human beings through abortion. https://t.co/1T1Z6GshZS',\n",
       " 'Maybe Starbucks some flowers and a long ass nap will cheer me up',\n",
       " 'starbucks always makes me feel better',\n",
       " 'starbucks always makes me feel better',\n",
       " 'NOW: Starbucks will pay expenses for any employee forced to travel for an abortion.',\n",
       " 'how Starbucks never gives me light ice',\n",
       " 'BREAKING: It’s a clean sweep! Starbucks workers in Portland, OR have won all four of their union elections today.',\n",
       " 'Cheers to always choosing chocolate. 🍫✨ Chocolate Cream Cold Brew. https://t.co/nOez4GjSah',\n",
       " 'The union steamrolls over Starbucks once again, winning all 4 vote counts today in Portland, Oregon',\n",
       " 'walked to starbucks on my break idk what to get',\n",
       " 'Starbucks will now directly pay for the killing of unborn human beings through abortion. https://t.co/1T1Z6GshZS',\n",
       " 'Pretty messed up that @Starbucks continues to fire workers orrganizing for better conditions on the job. They just fired Billie from the store on Maple Street in New Orleans. https://t.co/TJiKzoRiA0',\n",
       " 'Iced coffee         unionizing Starbucks',\n",
       " 'Another company I will not be buying products from @Starbucks. Your #woke ideology is going to lead to your demise. Paying your employees travel expenses for abortions will not happen with my money. #Starbucks #AbortionIsNotHealthcare',\n",
       " 'Maybe Starbucks some flowers and a long ass nap will cheer me up',\n",
       " 'Maybe Starbucks some flowers and a long ass nap will cheer me up',\n",
       " '@Abraxsys Starbucks',\n",
       " 'no man should have a longer starbucks order than me this is ridiculous https://t.co/ycV2YcBHOK',\n",
       " 'Iced coffee         unionizing Starbucks',\n",
       " 'Maybe Starbucks some flowers and a long ass nap will cheer me up',\n",
       " '@LifeNewsHQ @Starbucks Never',\n",
       " 'Maybe Starbucks some flowers and a long ass nap will cheer me up',\n",
       " '@RonFilipkowski Omg I am so sick of hearing about cancel culture, especially from the very party who does just that. Look at how they went crazy over Starbucks Christmas coffee cups?',\n",
       " '@Starbucks is a disgusting company paying travel to murder babies but not paying for employees to have insurance so they can prevent conception. I’ll never go there again. This is evil &amp; sadistic and targets poor minority moms. Your babies gave purpose too queens #prolife',\n",
       " 'Maybe Starbucks some flowers and a long ass nap will cheer me up',\n",
       " 'starbucks always makes me feel better',\n",
       " 'Iced coffee         unionizing Starbucks',\n",
       " \"@londonbel0w @Starbucks Perfectly legal in Washington, but I think it's unfair.\",\n",
       " 'Four Starbucks locations are first in Portland to vote for union https://t.co/Fc4bJxQXBd',\n",
       " 'Tim Hortons better than Starbucks',\n",
       " 'Maybe Starbucks some flowers and a long ass nap will cheer me up',\n",
       " 'Iced coffee         unionizing Starbucks',\n",
       " 'I want Starbucks every single day',\n",
       " 'Starbucks to add #abortiontravelcoverage to U.S. health benefits https://t.co/LpW1S9ON2H',\n",
       " '@elonmusk @bennyjohnson That dudes done. Starbucks is probably hiring lol',\n",
       " 'Maybe Starbucks some flowers and a long ass nap will cheer me up',\n",
       " 'Iced coffee         unionizing Starbucks',\n",
       " '@Patrick_CHAT Wait is Starbucks aborting employees?',\n",
       " '@bajablastrry @gracieabrams why would u get a bagel from starbucks first',\n",
       " 'Maybe Starbucks some flowers and a long ass nap will cheer me up',\n",
       " 'Iced coffee         unionizing Starbucks',\n",
       " 'Maybe Starbucks some flowers and a long ass nap will cheer me up',\n",
       " 'Iced coffee         unionizing Starbucks',\n",
       " '[]',\n",
       " '@rottedmolars starbucks!!',\n",
       " 'Iced coffee         unionizing Starbucks',\n",
       " 'Iced coffee         unionizing Starbucks',\n",
       " 'Iced coffee         unionizing Starbucks',\n",
       " 'Starbucks will now directly pay for the killing of unborn human beings through abortion. https://t.co/1T1Z6GshZS',\n",
       " \"Consider this while you're drinking your daily ☕️ What does it take for a brand to willingly collaborate with competitors to advance #circularity for an entire industry? Speakers from @LoopFund, @Starbucks &amp; @Target are discussing now. Livestream ➡️ @GreenBiz #Circularity22 https://t.co/bNYC4Vfchd\",\n",
       " 'Iced coffee         unionizing Starbucks',\n",
       " '@joannamarie1971 @Starbucks Cool!👍',\n",
       " 'accidentally said ‘large’ at starbucks and the barista tore me apart limb from limb until i was but a head &amp; a torso. after being left outside, birds &amp; rats picked at my remains while i screamed in excruciating agony. this would happen again every day for the next thousand years',\n",
       " 'starbucks always makes me feel better',\n",
       " '14 yes 2 no the Powell and 28th Starbucks is now represented by @SBWorkersUnited @SBWUPDX',\n",
       " 'Maybe Starbucks some flowers and a long ass nap will cheer me up',\n",
       " '@gracieabrams starbucks bagels?????? DONT EVEN GET ME STARTED',\n",
       " 'Maybe Starbucks some flowers and a long ass nap will cheer me up',\n",
       " 'Literally making my own brown sugar syrup right now so I can get my freaking coffees to taste like my Starbucks drink',\n",
       " 'Starbucks never talks about how unhealthy some of their drinks are if not all.',\n",
       " 'Iced coffee         unionizing Starbucks',\n",
       " 'i don’t even need a bf just someone to support my starbucks obsession lol my email is ysnvlza@icloud.com if anyone would like to send over a gift card of $200 on it TIA 😂',\n",
       " 'Maybe Starbucks some flowers and a long ass nap will cheer me up',\n",
       " 'Starbucks, a donut and some books, idk. Still Life',\n",
       " '[]',\n",
       " 'Iced coffee         unionizing Starbucks',\n",
       " 'watching Starbucks workers across the country win by choosing solidarity is the mood https://t.co/1LMb3en2AM',\n",
       " '@gracieabrams i had a Starbucks bagel 2 hours ago it wasn’t very good',\n",
       " 'tik tok is always teaching me i’m making drinks wrong at starbucks 🤠',\n",
       " 'Four Portland Starbucks stores reportedly vote to unionize https://t.co/0ewx8fUvsG',\n",
       " 'The amount of Starbucks reusable straws and energy drink cans in my room is concerning',\n",
       " 'Maybe Starbucks some flowers and a long ass nap will cheer me up',\n",
       " \"Starbucks don't never fail me with the lemonade\\U0001faf6🏽\",\n",
       " 'Maybe Starbucks some flowers and a long ass nap will cheer me up',\n",
       " 'Starbucks is among a handful of companies, including Yelp, Citigroup and Tesla, that have announced plans to cover transportation costs for employees in need of abortions.',\n",
       " 'At the Starbucks, my eight-year old male-identifying child asked, “Why did the farting Chi Com spy banger stoop even lower by unironicly using the ‘My kid’ meme to make his cheesy point?”',\n",
       " \"Back to 70's 🔁 🤎\",\n",
       " \"@Sinfulskin2 Yeah if I need to act like Im in a Dirty Harry movie where I go to a starbucks to intimidate soccer mom's and youngster's to say to them\",\n",
       " 'ok so i’m working 8 hours today and it was fine from about 1-6 but 6-9 is gonna be hell #starbucks',\n",
       " 'Maybe Starbucks some flowers and a long ass nap will cheer me up',\n",
       " \"just chased down a meth tweaker in a Misfits shirt who stole a tip jar from Starbucks only to realize the tip jar was empty, but on the bright side I think I may have written a new verse to Don McLean's 'American Pie'\",\n",
       " 'Maybe Starbucks some flowers and a long ass nap will cheer me up',\n",
       " \"Since Starbucks will pay all expenses for employees abortions I will never buy another cup of Starbuck's coffee again. Don't think God would want me too.\",\n",
       " 'Iced coffee         unionizing Starbucks',\n",
       " \"You might remember Bill Melugin (@BillFOXLA) from incorrectly reporting that a Starbucks barista put a tampon in an LAPD officer's coffee. He's also Fox News' top guy at the border. Much of his reporting follows that pattern. My deep dive, for @mmfa https://t.co/w9gFel1v1s\",\n",
       " 'Maybe Starbucks some flowers and a long ass nap will cheer me up',\n",
       " 'Might have to fuck around and try the pink drink from Starbucks',\n",
       " 'Maybe Starbucks some flowers and a long ass nap will cheer me up',\n",
       " 'BREAKING: It’s a clean sweep! Starbucks workers in Portland, OR have won all four of their union elections today.',\n",
       " \"@EminentProf @Starbucks Aren't the NSRB hammering away at them?\"]"
      ]
     },
     "execution_count": 7,
     "metadata": {},
     "output_type": "execute_result"
    }
   ],
   "source": [
    "feedback"
   ]
  },
  {
   "cell_type": "code",
   "execution_count": 8,
   "metadata": {},
   "outputs": [],
   "source": [
    "from textblob import TextBlob\n",
    "polarity=[]\n",
    "sentiment=[]\n",
    "p=0\n",
    "n=0\n",
    "neu=0\n",
    "for a in feedback:\n",
    "    pol= TextBlob(a).polarity\n",
    "    if pol>0:\n",
    "        sentiment.append(\"POSITIVE\")\n",
    "        p=p+1\n",
    "    elif pol<0:\n",
    "        sentiment.append(\"NEGATIVE\")\n",
    "        n=n+1\n",
    "    else:\n",
    "        sentiment.append(\"NEUTRAL\")\n",
    "        neu=neu+1\n",
    "\n",
    "    polarity.append(pol)"
   ]
  },
  {
   "cell_type": "code",
   "execution_count": 9,
   "metadata": {},
   "outputs": [
    {
     "name": "stdout",
     "output_type": "stream",
     "text": [
      "0      POSITIVE\n",
      "4      NEGATIVE\n",
      "5      POSITIVE\n",
      "6      POSITIVE\n",
      "7      NEGATIVE\n",
      "         ...   \n",
      "175    NEGATIVE\n",
      "176    NEGATIVE\n",
      "177    NEGATIVE\n",
      "178    POSITIVE\n",
      "180     NEUTRAL\n",
      "Name: sentiment, Length: 90, dtype: object\n"
     ]
    }
   ],
   "source": [
    "df['sentiment']=sentiment\n",
    "print(df['sentiment'])"
   ]
  },
  {
   "cell_type": "code",
   "execution_count": 10,
   "metadata": {},
   "outputs": [
    {
     "name": "stdout",
     "output_type": "stream",
     "text": [
      "[0.05, -0.05, 0.5, 0.5, -0.30000000000000004, 0.4, 0.45833333333333337, -0.6, 0.5, 0.0, 0.05, 0.29545454545454547, 0.0, 0.0, -0.05, -0.05, 0.0, -0.3333333333333333, 0.0, -0.05, 0.0, -0.05, -0.2785714285714286, -0.7999999999999999, -0.05, 0.5, 0.0, -0.15, 0.25, 0.5, -0.05, 0.0, -0.07142857142857142, 0.0, 0.8, -0.05, 0.0, 0.0, 0.25, -0.05, 0.0, -0.05, 0.0, 0.0, 0.0, 0.0, 0.0, 0.0, 0.05, 0.08333333333333333, 0.0, 0.0, 0.05357142857142857, 0.5, 0.0, -0.05, 0.0, -0.05, 0.44285714285714284, -0.4, 0.0, 0.8, -0.05, 0.0, 0.0, 0.0, 0.8, 0.9099999999999999, -0.5, 0.0, 0.0, -0.05, 0.25, -0.05, 0.0, -0.2, 0.0, -0.6, 0.45833333333333337, -0.05, 0.09680134680134682, -0.05, 0.0, 0.0, 0.2333333333333333, -0.05, -0.25, -0.05, 0.45833333333333337, 0.0]\n"
     ]
    }
   ],
   "source": [
    "print(polarity)"
   ]
  },
  {
   "cell_type": "code",
   "execution_count": 11,
   "metadata": {},
   "outputs": [
    {
     "data": {
      "text/html": [
       "<div>\n",
       "<style scoped>\n",
       "    .dataframe tbody tr th:only-of-type {\n",
       "        vertical-align: middle;\n",
       "    }\n",
       "\n",
       "    .dataframe tbody tr th {\n",
       "        vertical-align: top;\n",
       "    }\n",
       "\n",
       "    .dataframe thead th {\n",
       "        text-align: right;\n",
       "    }\n",
       "</style>\n",
       "<table border=\"1\" class=\"dataframe\">\n",
       "  <thead>\n",
       "    <tr style=\"text-align: right;\">\n",
       "      <th></th>\n",
       "      <th>text</th>\n",
       "      <th>sentiment</th>\n",
       "    </tr>\n",
       "  </thead>\n",
       "  <tbody>\n",
       "    <tr>\n",
       "      <th>0</th>\n",
       "      <td>Starbucks will now directly pay for the killin...</td>\n",
       "      <td>POSITIVE</td>\n",
       "    </tr>\n",
       "    <tr>\n",
       "      <th>4</th>\n",
       "      <td>Maybe Starbucks some flowers and a long ass na...</td>\n",
       "      <td>NEGATIVE</td>\n",
       "    </tr>\n",
       "    <tr>\n",
       "      <th>5</th>\n",
       "      <td>starbucks always makes me feel better</td>\n",
       "      <td>POSITIVE</td>\n",
       "    </tr>\n",
       "    <tr>\n",
       "      <th>6</th>\n",
       "      <td>starbucks always makes me feel better</td>\n",
       "      <td>POSITIVE</td>\n",
       "    </tr>\n",
       "    <tr>\n",
       "      <th>7</th>\n",
       "      <td>NOW: Starbucks will pay expenses for any emplo...</td>\n",
       "      <td>NEGATIVE</td>\n",
       "    </tr>\n",
       "    <tr>\n",
       "      <th>8</th>\n",
       "      <td>how Starbucks never gives me light ice</td>\n",
       "      <td>POSITIVE</td>\n",
       "    </tr>\n",
       "    <tr>\n",
       "      <th>9</th>\n",
       "      <td>BREAKING: It’s a clean sweep! Starbucks worker...</td>\n",
       "      <td>POSITIVE</td>\n",
       "    </tr>\n",
       "    <tr>\n",
       "      <th>11</th>\n",
       "      <td>Cheers to always choosing chocolate. 🍫✨ Chocol...</td>\n",
       "      <td>NEGATIVE</td>\n",
       "    </tr>\n",
       "    <tr>\n",
       "      <th>12</th>\n",
       "      <td>The union steamrolls over Starbucks once again...</td>\n",
       "      <td>POSITIVE</td>\n",
       "    </tr>\n",
       "    <tr>\n",
       "      <th>18</th>\n",
       "      <td>walked to starbucks on my break idk what to get</td>\n",
       "      <td>NEUTRAL</td>\n",
       "    </tr>\n",
       "  </tbody>\n",
       "</table>\n",
       "</div>"
      ],
      "text/plain": [
       "                                                 text sentiment\n",
       "0   Starbucks will now directly pay for the killin...  POSITIVE\n",
       "4   Maybe Starbucks some flowers and a long ass na...  NEGATIVE\n",
       "5               starbucks always makes me feel better  POSITIVE\n",
       "6               starbucks always makes me feel better  POSITIVE\n",
       "7   NOW: Starbucks will pay expenses for any emplo...  NEGATIVE\n",
       "8              how Starbucks never gives me light ice  POSITIVE\n",
       "9   BREAKING: It’s a clean sweep! Starbucks worker...  POSITIVE\n",
       "11  Cheers to always choosing chocolate. 🍫✨ Chocol...  NEGATIVE\n",
       "12  The union steamrolls over Starbucks once again...  POSITIVE\n",
       "18    walked to starbucks on my break idk what to get   NEUTRAL"
      ]
     },
     "execution_count": 11,
     "metadata": {},
     "output_type": "execute_result"
    }
   ],
   "source": [
    "df.head(10)"
   ]
  },
  {
   "cell_type": "code",
   "execution_count": 12,
   "metadata": {},
   "outputs": [
    {
     "data": {
      "text/plain": [
       "array(['POSITIVE', 'NEGATIVE', 'NEUTRAL'], dtype=object)"
      ]
     },
     "execution_count": 12,
     "metadata": {},
     "output_type": "execute_result"
    }
   ],
   "source": [
    "df['sentiment'].unique()"
   ]
  },
  {
   "cell_type": "code",
   "execution_count": 13,
   "metadata": {},
   "outputs": [],
   "source": [
    "dic={'POSITIVE':0,'NEGATIVE':0,'NEUTRAL':0}\n",
    "for i in df['sentiment']:\n",
    "    dic[i]=dic[i]+1"
   ]
  },
  {
   "cell_type": "code",
   "execution_count": 14,
   "metadata": {},
   "outputs": [
    {
     "name": "stdout",
     "output_type": "stream",
     "text": [
      "{'POSITIVE': 26, 'NEGATIVE': 31, 'NEUTRAL': 33}\n"
     ]
    }
   ],
   "source": [
    "print(dic)"
   ]
  },
  {
   "cell_type": "code",
   "execution_count": 17,
   "metadata": {},
   "outputs": [
    {
     "data": {
      "image/png": "[encoded data removed]",
      "text/plain": [
       "<Figure size 432x288 with 1 Axes>"
      ]
     },
     "metadata": {},
     "output_type": "display_data"
    }
   ],
   "source": [
    "import matplotlib.pyplot as plt\n",
    "labels=[]\n",
    "sizes=[]\n",
    "for x,y in dic.items():\n",
    "    labels.append(x)\n",
    "    sizes.append(y)\n",
    "plt.pie(sizes,labels=labels)\n",
    "plt.axis('equal')\n",
    "plt.show()"
   ]
  },
  {
   "cell_type": "code",
   "execution_count": 16,
   "metadata": {},
   "outputs": [
    {
     "name": "stdout",
     "output_type": "stream",
     "text": [
      "Collecting matplotlib\n",
      "  Downloading matplotlib-3.5.2-cp38-cp38-manylinux_2_5_x86_64.manylinux1_x86_64.whl (11.3 MB)\n",
      "\u001b[K     |████████████████████████████████| 11.3 MB 132 kB/s eta 0:00:01\n",
      "\u001b[?25hCollecting fonttools>=4.22.0\n",
      "  Downloading fonttools-4.33.3-py3-none-any.whl (930 kB)\n",
      "\u001b[K     |████████████████████████████████| 930 kB 218 kB/s eta 0:00:01\n",
      "\u001b[?25hRequirement already satisfied: numpy>=1.17 in /home/hadoop/.local/lib/python3.8/site-packages (from matplotlib) (1.22.3)\n",
      "Collecting kiwisolver>=1.0.1\n",
      "  Downloading kiwisolver-1.4.2-cp38-cp38-manylinux_2_5_x86_64.manylinux1_x86_64.whl (1.2 MB)\n",
      "\u001b[K     |████████████████████████████████| 1.2 MB 200 kB/s eta 0:00:01\n",
      "\u001b[?25hCollecting cycler>=0.10\n",
      "  Downloading cycler-0.11.0-py3-none-any.whl (6.4 kB)\n",
      "Collecting pillow>=6.2.0\n",
      "  Downloading Pillow-9.1.1-cp38-cp38-manylinux_2_17_x86_64.manylinux2014_x86_64.whl (3.1 MB)\n",
      "\u001b[K     |████████████████████████████████| 3.1 MB 93 kB/s  eta 0:00:01\n",
      "\u001b[?25hCollecting pyparsing>=2.2.1\n",
      "  Downloading pyparsing-3.0.9-py3-none-any.whl (98 kB)\n",
      "\u001b[K     |████████████████████████████████| 98 kB 464 kB/s eta 0:00:01\n",
      "\u001b[?25hRequirement already satisfied: python-dateutil>=2.7 in /home/hadoop/.local/lib/python3.8/site-packages (from matplotlib) (2.8.2)\n",
      "Collecting packaging>=20.0\n",
      "  Downloading packaging-21.3-py3-none-any.whl (40 kB)\n",
      "\u001b[K     |████████████████████████████████| 40 kB 435 kB/s eta 0:00:01\n",
      "\u001b[?25hRequirement already satisfied: six>=1.5 in /usr/lib/python3/dist-packages (from python-dateutil>=2.7->matplotlib) (1.14.0)\n",
      "Installing collected packages: fonttools, kiwisolver, cycler, pillow, pyparsing, packaging, matplotlib\n",
      "Successfully installed cycler-0.11.0 fonttools-4.33.3 kiwisolver-1.4.2 matplotlib-3.5.2 packaging-21.3 pillow-9.1.1 pyparsing-3.0.9\n"
     ]
    }
   ],
   "source": [
    "!pip install matplotlib"
   ]
  },
  {
   "cell_type": "code",
   "execution_count": null,
   "metadata": {},
   "outputs": [],
   "source": []
  }
 ],
 "metadata": {
  "kernelspec": {
   "display_name": "Python 3",
   "language": "python",
   "name": "python3"
  },
  "language_info": {
   "codemirror_mode": {
    "name": "ipython",
    "version": 3
   },
   "file_extension": ".py",
   "mimetype": "text/x-python",
   "name": "python",
   "nbconvert_exporter": "python",
   "pygments_lexer": "ipython3",
   "version": "3.8.10"
  }
 },
 "nbformat": 4,
 "nbformat_minor": 4
}
